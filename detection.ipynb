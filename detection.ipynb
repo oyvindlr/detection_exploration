{
 "cells": [
  {
   "cell_type": "markdown",
   "metadata": {},
   "source": [
    "### Detection of a sinusoidal signal in white Gaussian noise\n",
    "_Øyvind Rørtveit, Naxys Technologies 2024_\n",
    "\n",
    "We assume a signal of known frequency and duration, but unknown phase. A threshold is set on the absolute value of the inner product between the recorded noisy signal and a complex sinusoid at the same frequency. Using Neyman-Pearson detection theory, we can calculate the required threshold for a given false detection probability, based on the distribution of the statistic without presence of the signal (a $\\Chi^2$-distribution with two degrees of freedom). The true positive rate can be found based on the threshold and the distribution of statistic in the presense of the signal (a non-central $\\Chi^2$-distribution)\n"
   ]
  },
  {
   "cell_type": "code",
   "execution_count": 5,
   "metadata": {},
   "outputs": [
    {
     "data": {
      "application/vnd.jupyter.widget-view+json": {
       "model_id": "52e7725787a14142ace3cb6c757ed15e",
       "version_major": 2,
       "version_minor": 0
      },
      "text/plain": [
       "interactive(children=(IntSlider(value=90, description='White noise density (dB ref Pa^2/Hz)', layout=Layout(ju…"
      ]
     },
     "execution_count": 5,
     "metadata": {},
     "output_type": "execute_result"
    }
   ],
   "source": [
    "import scipy as sp\n",
    "import numpy as np\n",
    "import matplotlib.pyplot as plt\n",
    "import ipywidgets\n",
    "from ipywidgets import interactive\n",
    "\n",
    "def snr_threshold_given_false_positive_rate(false_positive_rate):\n",
    "    \"\"\"\n",
    "    Compute the threhold in dB (above the noise level) needed\n",
    "    to achieve the given false positive rate for a complex signal \n",
    "    with unknown phase in complex Gaussian noise\n",
    "    \"\"\"\n",
    "    return 10*np.log10(sp.special.gammaincinv(1, 1-false_positive_rate))\n",
    "\n",
    "def true_positive_rate_given_snr_and_threshold(threshold, snr, isPeak = False):\n",
    "    \"\"\"\n",
    "    Compute the true positive rate for a complex signal \n",
    "    with unknown phase in complex Gaussian noise, using the given\n",
    "    threshold and SNR.\n",
    "    Set isPeal to true if the signal power it given in terms of peak power,\n",
    "    set to false if it is given in terms of average power\n",
    "\n",
    "    Uses the cumulative density function of the non-central Xi-square distribution with 2 degrees of freedom\n",
    "    and non-centrality parameter given by 2*SNR\n",
    "\n",
    "    \"\"\"\n",
    "    power_conversion_factor = 1.0\n",
    "    if not isPeak:\n",
    "        power_conversion_factor = 2.0\n",
    "    return 1.0 - sp.stats.ncx2.cdf(2*(10**(threshold/10)), 2, power_conversion_factor*10**(snr/10))\n",
    "    \n",
    "    \n",
    "\n",
    "def interactive_detection_plot(whitenoisedensity = 90, false_positives_per_year = 1.0, signal_duration_ms= 25):\n",
    "    signal_duration = signal_duration_ms/1000\n",
    "    num_recordings_per_year = 365*24*60*60/signal_duration\n",
    "    false_positive_rate = false_positives_per_year/num_recordings_per_year\n",
    "    threshold_db = snr_threshold_given_false_positive_rate(false_positive_rate)\n",
    "    white_noise_power = whitenoisedensity - 10*np.log10(signal_duration)\n",
    "    snr_range = np.arange(10, 20, 0.1)\n",
    "\n",
    "    probability_of_detection = true_positive_rate_given_snr_and_threshold(threshold_db, snr_range)\n",
    "\n",
    "    fig, ax = plt.subplots()\n",
    "    ax.plot(snr_range, probability_of_detection)\n",
    "\n",
    "    ax.set_xlabel(\"SNR (dB)\")\n",
    "    ax.set_ylabel(\"Probability of detection\")\n",
    "    ax2 = ax.twiny()\n",
    "    ax2.set_xlim(snr_range[0]+white_noise_power, snr_range[-1]+white_noise_power)\n",
    "    ax2.set_xlabel(r\"Signal strength (dB ref $\\mathrm{Pa}^2$)\")\n",
    "\n",
    "\n",
    "\"\"\"\n",
    "JANUS FREQUENCY RANGES AND WAKEUP TONE DURATIONS:\n",
    "A: 9.440 kHz - 13.600 kHz   Wakeup tone duration: 25 ms\n",
    "B: 4.960 kHz - 7.040 kHz    Wakeup tone duration: 50 ms\n",
    "C: 8.400 kHz - 11.000 kHz   Wakeup tone duration: 40 ms\n",
    "D: 12.000 kHz - 16.160 kHz  Wakeup tone duration: 25 ms\n",
    "E: 24.750 kHz - 31.250 kHz  Wakeup tone duration: 16 ms\n",
    "\"\"\"\n",
    "\n",
    "whitenoiseslider = ipywidgets.IntSlider(value = 90, min = 60, max = 140, step = 1, description = \"White noise density (dB ref Pa^2/Hz)\", style={'description_width': '230px'}, layout=ipywidgets.Layout(width='450px', justify_content='flex-end'))\n",
    "fpa_slider = ipywidgets.FloatSlider(value = 1.0, min = 0.2, max = 1000, description = \"False positives per year\", style={'description_width': '230px'}, layout=ipywidgets.Layout(width='450px', justify_content='flex-end'))\n",
    "duration_slider = ipywidgets.IntSlider(value = 25, min = 1, max = 50, step = 1, description = \"Signal duration (ms)\", style={'description_width': '230px'}, layout=ipywidgets.Layout(width='450px', justify_content='flex-end'))\n",
    "interactive(interactive_detection_plot, whitenoisedensity = whitenoiseslider, false_positives_per_year = fpa_slider, signal_duration_ms = duration_slider)\n",
    "\n"
   ]
  }
 ],
 "metadata": {
  "kernelspec": {
   "display_name": "work",
   "language": "python",
   "name": "python3"
  },
  "language_info": {
   "codemirror_mode": {
    "name": "ipython",
    "version": 3
   },
   "file_extension": ".py",
   "mimetype": "text/x-python",
   "name": "python",
   "nbconvert_exporter": "python",
   "pygments_lexer": "ipython3",
   "version": "3.12.2"
  }
 },
 "nbformat": 4,
 "nbformat_minor": 2
}
